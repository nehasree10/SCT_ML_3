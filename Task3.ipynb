from google.colab import files
from zipfile import ZipFile
import pandas as pd
from sklearn.preprocessing import LabelEncoder
from sklearn.model_selection import train_test_split
from sklearn.tree import DecisionTreeClassifier, plot_tree
from sklearn.metrics import accuracy_score, classification_report
import matplotlib.pyplot as plt
import os
uploaded = files.upload()  # Upload 'bank+marketing.zip'
with ZipFile("bank+marketing.zip", 'r') as zip_ref:
    print("Files in ZIP:", zip_ref.namelist())
# Extract the outer ZIP first
with ZipFile("bank+marketing.zip", 'r') as zip_ref:
    zip_ref.extractall()  # Extracts 'bank.zip' and 'bank-additional.zip'

# Extract the inner ZIP that contains the CSV
with ZipFile("bank-additional.zip", 'r') as zip_ref:
    zip_ref.extractall()  # Extracts 'bank-additional-full.csv' and others
# Walk through extracted folder to find CSV
csv_path = None
for root, dirs, files in os.walk("bank-additional"):
    for file in files:
        if file.endswith(".csv"):
            csv_path = os.path.join(root, file)
            print("CSV found at:", csv_path)

# Load the dataset
df = pd.read_csv(csv_path, sep=';')
print("Dataset shape:", df.shape)
print(df.head())
df_encoded = df.copy()
for col in df_encoded.select_dtypes(include=['object']).columns:
    df_encoded[col] = LabelEncoder().fit_transform(df_encoded[col])

X = df_encoded.drop('y', axis=1)
y = df_encoded['y']

X_train, X_test, y_train, y_test = train_test_split(
    X, y, test_size=0.2, random_state=42
)
clf = DecisionTreeClassifier(random_state=42, class_weight='balanced')
clf.fit(X_train, y_train)
y_pred = clf.predict(X_test)
print("Accuracy:", accuracy_score(y_test, y_pred))
print(classification_report(y_test, y_pred))
plt.figure(figsize=(20,10))
plot_tree(clf, filled=True, feature_names=X.columns, class_names=['No', 'Yes'], rounded=True)
plt.show()
